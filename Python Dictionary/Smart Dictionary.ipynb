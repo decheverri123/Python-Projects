{
 "cells": [
  {
   "cell_type": "markdown",
   "metadata": {},
   "source": [
    "# Smart Dictionary"
   ]
  },
  {
   "cell_type": "code",
   "execution_count": 154,
   "metadata": {},
   "outputs": [
    {
     "data": {
      "text/plain": [
       "['Precipitation in the form of liquid water drops with diameters greater than 0.5 millimetres.',\n",
       " 'To fall from the clouds in drops of water.']"
      ]
     },
     "execution_count": 154,
     "metadata": {},
     "output_type": "execute_result"
    }
   ],
   "source": [
    "#loading json data into a dictionary\n",
    "import json\n",
    "\n",
    "data = json.load(open(\"data.json\"))\n",
    "\n",
    "#to access a definition\n",
    "data['rain']"
   ]
  },
  {
   "cell_type": "code",
   "execution_count": 155,
   "metadata": {},
   "outputs": [],
   "source": [
    "from difflib import get_close_matches #library to compute similarity ratios"
   ]
  },
  {
   "cell_type": "code",
   "execution_count": 184,
   "metadata": {},
   "outputs": [
    {
     "name": "stdout",
     "output_type": "stream",
     "text": [
      "['Precipitation in the form of liquid water drops with diameters greater than 0.5 millimetres.', 'To fall from the clouds in drops of water.']\n"
     ]
    }
   ],
   "source": [
    "def findDef(word):\n",
    "    word = word.lower() #make word case insensitive\n",
    "    if word in data:\n",
    "        return data[word]\n",
    "    elif len(get_close_matches(word, data.keys(), cutoff=.8)) > 0:\n",
    "        yn = input('Did you mean \"%s\" instead? Enter Y if yes, or N if no. ' % \n",
    "                     get_close_matches(word, data.keys())[0])\n",
    "        if yn == \"Y\" or 'y':\n",
    "            return data[get_close_matches(word, data.keys())[0]]\n",
    "        elif yn == \"N\":\n",
    "            return \"The word doesn't exist.\"\n",
    "        else:\n",
    "            return \"We didn't find that word.\"\n",
    "    else:\n",
    "        return \"The word doesn't exist.\"\n",
    "word = input(\"Enter word: \")\n",
    "output = findDef(word)\n",
    "if type(output) == list:\n",
    "    for item in output:\n",
    "        print(item)\n",
    "else:\n",
    "    print(output)"
   ]
  },
  {
   "cell_type": "code",
   "execution_count": null,
   "metadata": {},
   "outputs": [],
   "source": []
  }
 ],
 "metadata": {
  "kernelspec": {
   "display_name": "Python 3",
   "language": "python",
   "name": "python3"
  },
  "language_info": {
   "codemirror_mode": {
    "name": "ipython",
    "version": 3
   },
   "file_extension": ".py",
   "mimetype": "text/x-python",
   "name": "python",
   "nbconvert_exporter": "python",
   "pygments_lexer": "ipython3",
   "version": "3.6.5"
  }
 },
 "nbformat": 4,
 "nbformat_minor": 2
}
